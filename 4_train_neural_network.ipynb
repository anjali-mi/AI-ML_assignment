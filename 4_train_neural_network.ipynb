{
  "cells": [
    {
      "cell_type": "markdown",
      "metadata": {
        "id": "view-in-github",
        "colab_type": "text"
      },
      "source": [
        "<a href=\"https://colab.research.google.com/github/anjali-mi/AI-ML_assignment/blob/main/4_train_neural_network.ipynb\" target=\"_parent\"><img src=\"https://colab.research.google.com/assets/colab-badge.svg\" alt=\"Open In Colab\"/></a>"
      ]
    },
    {
      "cell_type": "markdown",
      "metadata": {
        "id": "yNhnYcNiwrfL"
      },
      "source": [
        "# Naive Bayes"
      ]
    },
    {
      "cell_type": "markdown",
      "metadata": {
        "id": "2CMI_YxlwrfP"
      },
      "source": [
        "# Import Libraries"
      ]
    },
    {
      "cell_type": "code",
      "execution_count": null,
      "metadata": {
        "colab": {
          "base_uri": "https://localhost:8080/"
        },
        "id": "vmcMN9j3wrfQ",
        "outputId": "294d7ced-b948-4103-e06f-732450a743e5"
      },
      "outputs": [
        {
          "output_type": "stream",
          "name": "stdout",
          "text": [
            "Requirement already satisfied: nltk in /usr/local/lib/python3.10/dist-packages (3.9.1)\n",
            "Requirement already satisfied: click in /usr/local/lib/python3.10/dist-packages (from nltk) (8.1.7)\n",
            "Requirement already satisfied: joblib in /usr/local/lib/python3.10/dist-packages (from nltk) (1.4.2)\n",
            "Requirement already satisfied: regex>=2021.8.3 in /usr/local/lib/python3.10/dist-packages (from nltk) (2024.9.11)\n",
            "Requirement already satisfied: tqdm in /usr/local/lib/python3.10/dist-packages (from nltk) (4.66.6)\n"
          ]
        }
      ],
      "source": [
        "!pip install nltk"
      ]
    },
    {
      "cell_type": "code",
      "execution_count": null,
      "metadata": {
        "colab": {
          "base_uri": "https://localhost:8080/"
        },
        "id": "dHqHkRT1wrfR",
        "outputId": "c4d24463-d385-43f2-f7d5-5d7b8a727ff6"
      },
      "outputs": [
        {
          "output_type": "stream",
          "name": "stderr",
          "text": [
            "[nltk_data] Downloading collection 'all'\n",
            "[nltk_data]    | \n",
            "[nltk_data]    | Downloading package abc to /root/nltk_data...\n",
            "[nltk_data]    |   Unzipping corpora/abc.zip.\n",
            "[nltk_data]    | Downloading package alpino to /root/nltk_data...\n",
            "[nltk_data]    |   Unzipping corpora/alpino.zip.\n",
            "[nltk_data]    | Downloading package averaged_perceptron_tagger to\n",
            "[nltk_data]    |     /root/nltk_data...\n",
            "[nltk_data]    |   Unzipping taggers/averaged_perceptron_tagger.zip.\n",
            "[nltk_data]    | Downloading package averaged_perceptron_tagger_eng to\n",
            "[nltk_data]    |     /root/nltk_data...\n",
            "[nltk_data]    |   Unzipping\n",
            "[nltk_data]    |       taggers/averaged_perceptron_tagger_eng.zip.\n",
            "[nltk_data]    | Downloading package averaged_perceptron_tagger_ru to\n",
            "[nltk_data]    |     /root/nltk_data...\n",
            "[nltk_data]    |   Unzipping\n",
            "[nltk_data]    |       taggers/averaged_perceptron_tagger_ru.zip.\n",
            "[nltk_data]    | Downloading package averaged_perceptron_tagger_rus to\n",
            "[nltk_data]    |     /root/nltk_data...\n",
            "[nltk_data]    |   Unzipping\n",
            "[nltk_data]    |       taggers/averaged_perceptron_tagger_rus.zip.\n",
            "[nltk_data]    | Downloading package basque_grammars to\n",
            "[nltk_data]    |     /root/nltk_data...\n",
            "[nltk_data]    |   Unzipping grammars/basque_grammars.zip.\n",
            "[nltk_data]    | Downloading package bcp47 to /root/nltk_data...\n",
            "[nltk_data]    | Downloading package biocreative_ppi to\n",
            "[nltk_data]    |     /root/nltk_data...\n",
            "[nltk_data]    |   Unzipping corpora/biocreative_ppi.zip.\n",
            "[nltk_data]    | Downloading package bllip_wsj_no_aux to\n",
            "[nltk_data]    |     /root/nltk_data...\n",
            "[nltk_data]    |   Unzipping models/bllip_wsj_no_aux.zip.\n",
            "[nltk_data]    | Downloading package book_grammars to\n",
            "[nltk_data]    |     /root/nltk_data...\n",
            "[nltk_data]    |   Unzipping grammars/book_grammars.zip.\n",
            "[nltk_data]    | Downloading package brown to /root/nltk_data...\n",
            "[nltk_data]    |   Unzipping corpora/brown.zip.\n",
            "[nltk_data]    | Downloading package brown_tei to /root/nltk_data...\n",
            "[nltk_data]    |   Unzipping corpora/brown_tei.zip.\n",
            "[nltk_data]    | Downloading package cess_cat to /root/nltk_data...\n",
            "[nltk_data]    |   Unzipping corpora/cess_cat.zip.\n",
            "[nltk_data]    | Downloading package cess_esp to /root/nltk_data...\n",
            "[nltk_data]    |   Unzipping corpora/cess_esp.zip.\n",
            "[nltk_data]    | Downloading package chat80 to /root/nltk_data...\n",
            "[nltk_data]    |   Unzipping corpora/chat80.zip.\n",
            "[nltk_data]    | Downloading package city_database to\n",
            "[nltk_data]    |     /root/nltk_data...\n",
            "[nltk_data]    |   Unzipping corpora/city_database.zip.\n",
            "[nltk_data]    | Downloading package cmudict to /root/nltk_data...\n",
            "[nltk_data]    |   Unzipping corpora/cmudict.zip.\n",
            "[nltk_data]    | Downloading package comparative_sentences to\n",
            "[nltk_data]    |     /root/nltk_data...\n",
            "[nltk_data]    |   Unzipping corpora/comparative_sentences.zip.\n",
            "[nltk_data]    | Downloading package comtrans to /root/nltk_data...\n",
            "[nltk_data]    | Downloading package conll2000 to /root/nltk_data...\n",
            "[nltk_data]    |   Unzipping corpora/conll2000.zip.\n",
            "[nltk_data]    | Downloading package conll2002 to /root/nltk_data...\n",
            "[nltk_data]    |   Unzipping corpora/conll2002.zip.\n",
            "[nltk_data]    | Downloading package conll2007 to /root/nltk_data...\n",
            "[nltk_data]    | Downloading package crubadan to /root/nltk_data...\n",
            "[nltk_data]    |   Unzipping corpora/crubadan.zip.\n",
            "[nltk_data]    | Downloading package dependency_treebank to\n",
            "[nltk_data]    |     /root/nltk_data...\n",
            "[nltk_data]    |   Unzipping corpora/dependency_treebank.zip.\n",
            "[nltk_data]    | Downloading package dolch to /root/nltk_data...\n",
            "[nltk_data]    |   Unzipping corpora/dolch.zip.\n",
            "[nltk_data]    | Downloading package europarl_raw to\n",
            "[nltk_data]    |     /root/nltk_data...\n",
            "[nltk_data]    |   Unzipping corpora/europarl_raw.zip.\n",
            "[nltk_data]    | Downloading package extended_omw to\n",
            "[nltk_data]    |     /root/nltk_data...\n",
            "[nltk_data]    | Downloading package floresta to /root/nltk_data...\n",
            "[nltk_data]    |   Unzipping corpora/floresta.zip.\n",
            "[nltk_data]    | Downloading package framenet_v15 to\n",
            "[nltk_data]    |     /root/nltk_data...\n",
            "[nltk_data]    |   Unzipping corpora/framenet_v15.zip.\n",
            "[nltk_data]    | Downloading package framenet_v17 to\n",
            "[nltk_data]    |     /root/nltk_data...\n",
            "[nltk_data]    |   Unzipping corpora/framenet_v17.zip.\n",
            "[nltk_data]    | Downloading package gazetteers to /root/nltk_data...\n",
            "[nltk_data]    |   Unzipping corpora/gazetteers.zip.\n",
            "[nltk_data]    | Downloading package genesis to /root/nltk_data...\n",
            "[nltk_data]    |   Unzipping corpora/genesis.zip.\n",
            "[nltk_data]    | Downloading package gutenberg to /root/nltk_data...\n",
            "[nltk_data]    |   Unzipping corpora/gutenberg.zip.\n",
            "[nltk_data]    | Downloading package ieer to /root/nltk_data...\n",
            "[nltk_data]    |   Unzipping corpora/ieer.zip.\n",
            "[nltk_data]    | Downloading package inaugural to /root/nltk_data...\n",
            "[nltk_data]    |   Unzipping corpora/inaugural.zip.\n",
            "[nltk_data]    | Downloading package indian to /root/nltk_data...\n",
            "[nltk_data]    |   Unzipping corpora/indian.zip.\n",
            "[nltk_data]    | Downloading package jeita to /root/nltk_data...\n",
            "[nltk_data]    | Downloading package kimmo to /root/nltk_data...\n",
            "[nltk_data]    |   Unzipping corpora/kimmo.zip.\n",
            "[nltk_data]    | Downloading package knbc to /root/nltk_data...\n",
            "[nltk_data]    | Downloading package large_grammars to\n",
            "[nltk_data]    |     /root/nltk_data...\n",
            "[nltk_data]    |   Unzipping grammars/large_grammars.zip.\n",
            "[nltk_data]    | Downloading package lin_thesaurus to\n",
            "[nltk_data]    |     /root/nltk_data...\n",
            "[nltk_data]    |   Unzipping corpora/lin_thesaurus.zip.\n",
            "[nltk_data]    | Downloading package mac_morpho to /root/nltk_data...\n",
            "[nltk_data]    |   Unzipping corpora/mac_morpho.zip.\n",
            "[nltk_data]    | Downloading package machado to /root/nltk_data...\n",
            "[nltk_data]    | Downloading package masc_tagged to /root/nltk_data...\n",
            "[nltk_data]    | Downloading package maxent_ne_chunker to\n",
            "[nltk_data]    |     /root/nltk_data...\n",
            "[nltk_data]    |   Unzipping chunkers/maxent_ne_chunker.zip.\n",
            "[nltk_data]    | Downloading package maxent_ne_chunker_tab to\n",
            "[nltk_data]    |     /root/nltk_data...\n",
            "[nltk_data]    |   Unzipping chunkers/maxent_ne_chunker_tab.zip.\n",
            "[nltk_data]    | Downloading package maxent_treebank_pos_tagger to\n",
            "[nltk_data]    |     /root/nltk_data...\n",
            "[nltk_data]    |   Unzipping taggers/maxent_treebank_pos_tagger.zip.\n",
            "[nltk_data]    | Downloading package maxent_treebank_pos_tagger_tab to\n",
            "[nltk_data]    |     /root/nltk_data...\n",
            "[nltk_data]    |   Unzipping\n",
            "[nltk_data]    |       taggers/maxent_treebank_pos_tagger_tab.zip.\n",
            "[nltk_data]    | Downloading package moses_sample to\n",
            "[nltk_data]    |     /root/nltk_data...\n",
            "[nltk_data]    |   Unzipping models/moses_sample.zip.\n",
            "[nltk_data]    | Downloading package movie_reviews to\n",
            "[nltk_data]    |     /root/nltk_data...\n",
            "[nltk_data]    |   Unzipping corpora/movie_reviews.zip.\n",
            "[nltk_data]    | Downloading package mte_teip5 to /root/nltk_data...\n",
            "[nltk_data]    |   Unzipping corpora/mte_teip5.zip.\n",
            "[nltk_data]    | Downloading package mwa_ppdb to /root/nltk_data...\n",
            "[nltk_data]    |   Unzipping misc/mwa_ppdb.zip.\n",
            "[nltk_data]    | Downloading package names to /root/nltk_data...\n",
            "[nltk_data]    |   Unzipping corpora/names.zip.\n",
            "[nltk_data]    | Downloading package nombank.1.0 to /root/nltk_data...\n",
            "[nltk_data]    | Downloading package nonbreaking_prefixes to\n",
            "[nltk_data]    |     /root/nltk_data...\n",
            "[nltk_data]    |   Unzipping corpora/nonbreaking_prefixes.zip.\n",
            "[nltk_data]    | Downloading package nps_chat to /root/nltk_data...\n",
            "[nltk_data]    |   Unzipping corpora/nps_chat.zip.\n",
            "[nltk_data]    | Downloading package omw to /root/nltk_data...\n",
            "[nltk_data]    | Downloading package omw-1.4 to /root/nltk_data...\n",
            "[nltk_data]    | Downloading package opinion_lexicon to\n",
            "[nltk_data]    |     /root/nltk_data...\n",
            "[nltk_data]    |   Unzipping corpora/opinion_lexicon.zip.\n",
            "[nltk_data]    | Downloading package panlex_swadesh to\n",
            "[nltk_data]    |     /root/nltk_data...\n",
            "[nltk_data]    | Downloading package paradigms to /root/nltk_data...\n",
            "[nltk_data]    |   Unzipping corpora/paradigms.zip.\n",
            "[nltk_data]    | Downloading package pe08 to /root/nltk_data...\n",
            "[nltk_data]    |   Unzipping corpora/pe08.zip.\n",
            "[nltk_data]    | Downloading package perluniprops to\n",
            "[nltk_data]    |     /root/nltk_data...\n",
            "[nltk_data]    |   Unzipping misc/perluniprops.zip.\n",
            "[nltk_data]    | Downloading package pil to /root/nltk_data...\n",
            "[nltk_data]    |   Unzipping corpora/pil.zip.\n",
            "[nltk_data]    | Downloading package pl196x to /root/nltk_data...\n",
            "[nltk_data]    |   Unzipping corpora/pl196x.zip.\n",
            "[nltk_data]    | Downloading package porter_test to /root/nltk_data...\n",
            "[nltk_data]    |   Unzipping stemmers/porter_test.zip.\n",
            "[nltk_data]    | Downloading package ppattach to /root/nltk_data...\n",
            "[nltk_data]    |   Unzipping corpora/ppattach.zip.\n",
            "[nltk_data]    | Downloading package problem_reports to\n",
            "[nltk_data]    |     /root/nltk_data...\n",
            "[nltk_data]    |   Unzipping corpora/problem_reports.zip.\n",
            "[nltk_data]    | Downloading package product_reviews_1 to\n",
            "[nltk_data]    |     /root/nltk_data...\n",
            "[nltk_data]    |   Unzipping corpora/product_reviews_1.zip.\n",
            "[nltk_data]    | Downloading package product_reviews_2 to\n",
            "[nltk_data]    |     /root/nltk_data...\n",
            "[nltk_data]    |   Unzipping corpora/product_reviews_2.zip.\n",
            "[nltk_data]    | Downloading package propbank to /root/nltk_data...\n",
            "[nltk_data]    | Downloading package pros_cons to /root/nltk_data...\n",
            "[nltk_data]    |   Unzipping corpora/pros_cons.zip.\n",
            "[nltk_data]    | Downloading package ptb to /root/nltk_data...\n",
            "[nltk_data]    |   Unzipping corpora/ptb.zip.\n",
            "[nltk_data]    | Downloading package punkt to /root/nltk_data...\n",
            "[nltk_data]    |   Unzipping tokenizers/punkt.zip.\n",
            "[nltk_data]    | Downloading package punkt_tab to /root/nltk_data...\n",
            "[nltk_data]    |   Unzipping tokenizers/punkt_tab.zip.\n",
            "[nltk_data]    | Downloading package qc to /root/nltk_data...\n",
            "[nltk_data]    |   Unzipping corpora/qc.zip.\n",
            "[nltk_data]    | Downloading package reuters to /root/nltk_data...\n",
            "[nltk_data]    | Downloading package rslp to /root/nltk_data...\n",
            "[nltk_data]    |   Unzipping stemmers/rslp.zip.\n",
            "[nltk_data]    | Downloading package rte to /root/nltk_data...\n",
            "[nltk_data]    |   Unzipping corpora/rte.zip.\n",
            "[nltk_data]    | Downloading package sample_grammars to\n",
            "[nltk_data]    |     /root/nltk_data...\n",
            "[nltk_data]    |   Unzipping grammars/sample_grammars.zip.\n",
            "[nltk_data]    | Downloading package semcor to /root/nltk_data...\n",
            "[nltk_data]    | Downloading package senseval to /root/nltk_data...\n",
            "[nltk_data]    |   Unzipping corpora/senseval.zip.\n",
            "[nltk_data]    | Downloading package sentence_polarity to\n",
            "[nltk_data]    |     /root/nltk_data...\n",
            "[nltk_data]    |   Unzipping corpora/sentence_polarity.zip.\n",
            "[nltk_data]    | Downloading package sentiwordnet to\n",
            "[nltk_data]    |     /root/nltk_data...\n",
            "[nltk_data]    |   Unzipping corpora/sentiwordnet.zip.\n",
            "[nltk_data]    | Downloading package shakespeare to /root/nltk_data...\n",
            "[nltk_data]    |   Unzipping corpora/shakespeare.zip.\n",
            "[nltk_data]    | Downloading package sinica_treebank to\n",
            "[nltk_data]    |     /root/nltk_data...\n",
            "[nltk_data]    |   Unzipping corpora/sinica_treebank.zip.\n",
            "[nltk_data]    | Downloading package smultron to /root/nltk_data...\n",
            "[nltk_data]    |   Unzipping corpora/smultron.zip.\n",
            "[nltk_data]    | Downloading package snowball_data to\n",
            "[nltk_data]    |     /root/nltk_data...\n",
            "[nltk_data]    | Downloading package spanish_grammars to\n",
            "[nltk_data]    |     /root/nltk_data...\n",
            "[nltk_data]    |   Unzipping grammars/spanish_grammars.zip.\n",
            "[nltk_data]    | Downloading package state_union to /root/nltk_data...\n",
            "[nltk_data]    |   Unzipping corpora/state_union.zip.\n",
            "[nltk_data]    | Downloading package stopwords to /root/nltk_data...\n",
            "[nltk_data]    |   Unzipping corpora/stopwords.zip.\n",
            "[nltk_data]    | Downloading package subjectivity to\n",
            "[nltk_data]    |     /root/nltk_data...\n",
            "[nltk_data]    |   Unzipping corpora/subjectivity.zip.\n",
            "[nltk_data]    | Downloading package swadesh to /root/nltk_data...\n",
            "[nltk_data]    |   Unzipping corpora/swadesh.zip.\n",
            "[nltk_data]    | Downloading package switchboard to /root/nltk_data...\n",
            "[nltk_data]    |   Unzipping corpora/switchboard.zip.\n",
            "[nltk_data]    | Downloading package tagsets to /root/nltk_data...\n",
            "[nltk_data]    |   Unzipping help/tagsets.zip.\n",
            "[nltk_data]    | Downloading package tagsets_json to\n",
            "[nltk_data]    |     /root/nltk_data...\n",
            "[nltk_data]    |   Unzipping help/tagsets_json.zip.\n",
            "[nltk_data]    | Downloading package timit to /root/nltk_data...\n",
            "[nltk_data]    |   Unzipping corpora/timit.zip.\n",
            "[nltk_data]    | Downloading package toolbox to /root/nltk_data...\n",
            "[nltk_data]    |   Unzipping corpora/toolbox.zip.\n",
            "[nltk_data]    | Downloading package treebank to /root/nltk_data...\n",
            "[nltk_data]    |   Unzipping corpora/treebank.zip.\n",
            "[nltk_data]    | Downloading package twitter_samples to\n",
            "[nltk_data]    |     /root/nltk_data...\n",
            "[nltk_data]    |   Unzipping corpora/twitter_samples.zip.\n",
            "[nltk_data]    | Downloading package udhr to /root/nltk_data...\n",
            "[nltk_data]    |   Unzipping corpora/udhr.zip.\n",
            "[nltk_data]    | Downloading package udhr2 to /root/nltk_data...\n",
            "[nltk_data]    |   Unzipping corpora/udhr2.zip.\n",
            "[nltk_data]    | Downloading package unicode_samples to\n",
            "[nltk_data]    |     /root/nltk_data...\n",
            "[nltk_data]    |   Unzipping corpora/unicode_samples.zip.\n",
            "[nltk_data]    | Downloading package universal_tagset to\n",
            "[nltk_data]    |     /root/nltk_data...\n",
            "[nltk_data]    |   Unzipping taggers/universal_tagset.zip.\n",
            "[nltk_data]    | Downloading package universal_treebanks_v20 to\n",
            "[nltk_data]    |     /root/nltk_data...\n",
            "[nltk_data]    | Downloading package vader_lexicon to\n",
            "[nltk_data]    |     /root/nltk_data...\n",
            "[nltk_data]    | Downloading package verbnet to /root/nltk_data...\n",
            "[nltk_data]    |   Unzipping corpora/verbnet.zip.\n",
            "[nltk_data]    | Downloading package verbnet3 to /root/nltk_data...\n",
            "[nltk_data]    |   Unzipping corpora/verbnet3.zip.\n",
            "[nltk_data]    | Downloading package webtext to /root/nltk_data...\n",
            "[nltk_data]    |   Unzipping corpora/webtext.zip.\n",
            "[nltk_data]    | Downloading package wmt15_eval to /root/nltk_data...\n",
            "[nltk_data]    |   Unzipping models/wmt15_eval.zip.\n",
            "[nltk_data]    | Downloading package word2vec_sample to\n",
            "[nltk_data]    |     /root/nltk_data...\n",
            "[nltk_data]    |   Unzipping models/word2vec_sample.zip.\n",
            "[nltk_data]    | Downloading package wordnet to /root/nltk_data...\n",
            "[nltk_data]    | Downloading package wordnet2021 to /root/nltk_data...\n",
            "[nltk_data]    | Downloading package wordnet2022 to /root/nltk_data...\n",
            "[nltk_data]    |   Unzipping corpora/wordnet2022.zip.\n",
            "[nltk_data]    | Downloading package wordnet31 to /root/nltk_data...\n",
            "[nltk_data]    | Downloading package wordnet_ic to /root/nltk_data...\n",
            "[nltk_data]    |   Unzipping corpora/wordnet_ic.zip.\n",
            "[nltk_data]    | Downloading package words to /root/nltk_data...\n",
            "[nltk_data]    |   Unzipping corpora/words.zip.\n",
            "[nltk_data]    | Downloading package ycoe to /root/nltk_data...\n",
            "[nltk_data]    |   Unzipping corpora/ycoe.zip.\n",
            "[nltk_data]    | \n",
            "[nltk_data]  Done downloading collection all\n"
          ]
        },
        {
          "output_type": "execute_result",
          "data": {
            "text/plain": [
              "True"
            ]
          },
          "metadata": {},
          "execution_count": 2
        }
      ],
      "source": [
        "import nltk\n",
        "nltk.download('all')"
      ]
    },
    {
      "cell_type": "code",
      "execution_count": null,
      "metadata": {
        "id": "or_hiieYwrfT"
      },
      "outputs": [],
      "source": [
        "import pandas as pd\n",
        "import numpy as np\n",
        "from sklearn.model_selection import train_test_split\n",
        "\n",
        "import re\n",
        "from nltk.corpus import stopwords\n",
        "from nltk.tokenize import word_tokenize\n",
        "from nltk.stem import PorterStemmer\n",
        "\n",
        "from tensorflow.keras.preprocessing.text import Tokenizer\n",
        "from tensorflow.keras.preprocessing.sequence import pad_sequences\n",
        "import tensorflow as tf\n",
        "\n",
        "import matplotlib.pyplot as plt"
      ]
    },
    {
      "cell_type": "markdown",
      "metadata": {
        "id": "l_P_6L5FwrfT"
      },
      "source": [
        "# Import File"
      ]
    },
    {
      "cell_type": "code",
      "execution_count": null,
      "metadata": {
        "id": "-DK4Yh8iwrfU"
      },
      "outputs": [],
      "source": [
        "df = pd.read_csv(\"data/TwitterDataset.csv\", encoding='latin')"
      ]
    },
    {
      "cell_type": "code",
      "execution_count": null,
      "metadata": {
        "id": "Yithx1akwrfU",
        "outputId": "e65adaed-a4d8-41e1-c7e5-ad30e485a5ec"
      },
      "outputs": [
        {
          "data": {
            "text/html": [
              "<div>\n",
              "<style scoped>\n",
              "    .dataframe tbody tr th:only-of-type {\n",
              "        vertical-align: middle;\n",
              "    }\n",
              "\n",
              "    .dataframe tbody tr th {\n",
              "        vertical-align: top;\n",
              "    }\n",
              "\n",
              "    .dataframe thead th {\n",
              "        text-align: right;\n",
              "    }\n",
              "</style>\n",
              "<table border=\"1\" class=\"dataframe\">\n",
              "  <thead>\n",
              "    <tr style=\"text-align: right;\">\n",
              "      <th></th>\n",
              "      <th>File Name</th>\n",
              "      <th>Caption</th>\n",
              "      <th>LABEL</th>\n",
              "    </tr>\n",
              "  </thead>\n",
              "  <tbody>\n",
              "    <tr>\n",
              "      <th>0</th>\n",
              "      <td>1.txt</td>\n",
              "      <td>How I feel today #legday #jelly #aching #gym</td>\n",
              "      <td>negative</td>\n",
              "    </tr>\n",
              "    <tr>\n",
              "      <th>1</th>\n",
              "      <td>10.txt</td>\n",
              "      <td>@ArrivaTW absolute disgrace two carriages from...</td>\n",
              "      <td>negative</td>\n",
              "    </tr>\n",
              "    <tr>\n",
              "      <th>2</th>\n",
              "      <td>100.txt</td>\n",
              "      <td>This is my Valentine's from 1 of my nephews. I...</td>\n",
              "      <td>positive</td>\n",
              "    </tr>\n",
              "    <tr>\n",
              "      <th>3</th>\n",
              "      <td>1000.txt</td>\n",
              "      <td>betterfeelingfilms: RT via Instagram: First da...</td>\n",
              "      <td>neutral</td>\n",
              "    </tr>\n",
              "    <tr>\n",
              "      <th>4</th>\n",
              "      <td>1001.txt</td>\n",
              "      <td>Zoe's first love #Rattled @JohnnyHarper15</td>\n",
              "      <td>positive</td>\n",
              "    </tr>\n",
              "  </tbody>\n",
              "</table>\n",
              "</div>"
            ],
            "text/plain": [
              "  File Name                                            Caption     LABEL\n",
              "0     1.txt      How I feel today #legday #jelly #aching #gym   negative\n",
              "1    10.txt  @ArrivaTW absolute disgrace two carriages from...  negative\n",
              "2   100.txt  This is my Valentine's from 1 of my nephews. I...  positive\n",
              "3  1000.txt  betterfeelingfilms: RT via Instagram: First da...   neutral\n",
              "4  1001.txt         Zoe's first love #Rattled @JohnnyHarper15   positive"
            ]
          },
          "execution_count": 3,
          "metadata": {},
          "output_type": "execute_result"
        }
      ],
      "source": [
        "df.head()"
      ]
    },
    {
      "cell_type": "code",
      "execution_count": null,
      "metadata": {
        "id": "ebtA6HxAwrfV"
      },
      "outputs": [],
      "source": [
        "df.drop(columns=[\"File Name\"], inplace=True)\n",
        "df.dropna(inplace=True)"
      ]
    },
    {
      "cell_type": "code",
      "execution_count": null,
      "metadata": {
        "id": "BysY3BwfwrfV",
        "outputId": "3542953d-c0a1-4ec5-d2a9-a050f8224a71"
      },
      "outputs": [
        {
          "data": {
            "text/plain": [
              "LABEL\n",
              "neutral     1771\n",
              "positive    1646\n",
              "negative    1452\n",
              "Name: count, dtype: int64"
            ]
          },
          "execution_count": 5,
          "metadata": {},
          "output_type": "execute_result"
        }
      ],
      "source": [
        "df[\"LABEL\"].value_counts()"
      ]
    },
    {
      "cell_type": "code",
      "execution_count": null,
      "metadata": {
        "id": "UORRD3JowrfW"
      },
      "outputs": [],
      "source": [
        "df = df[~df['LABEL'].isin(['neutral'])]\n",
        "df.reset_index(drop=True, inplace=True)"
      ]
    },
    {
      "cell_type": "code",
      "execution_count": null,
      "metadata": {
        "id": "4FaF-u5vwrfW",
        "outputId": "7b8fe70c-0ae1-41bc-aa63-cc076aeda188"
      },
      "outputs": [
        {
          "data": {
            "text/html": [
              "<div>\n",
              "<style scoped>\n",
              "    .dataframe tbody tr th:only-of-type {\n",
              "        vertical-align: middle;\n",
              "    }\n",
              "\n",
              "    .dataframe tbody tr th {\n",
              "        vertical-align: top;\n",
              "    }\n",
              "\n",
              "    .dataframe thead th {\n",
              "        text-align: right;\n",
              "    }\n",
              "</style>\n",
              "<table border=\"1\" class=\"dataframe\">\n",
              "  <thead>\n",
              "    <tr style=\"text-align: right;\">\n",
              "      <th></th>\n",
              "      <th>Caption</th>\n",
              "      <th>LABEL</th>\n",
              "    </tr>\n",
              "  </thead>\n",
              "  <tbody>\n",
              "    <tr>\n",
              "      <th>1634</th>\n",
              "      <td>Rowed &amp; won as a \"junior\" in a Junior mixed 8 ...</td>\n",
              "      <td>positive</td>\n",
              "    </tr>\n",
              "    <tr>\n",
              "      <th>2268</th>\n",
              "      <td>RT @charlesfrith: Cameron is desperate to make...</td>\n",
              "      <td>negative</td>\n",
              "    </tr>\n",
              "    <tr>\n",
              "      <th>1207</th>\n",
              "      <td>RT @6CDM: Happy #valentinesday dear @AllisonMc...</td>\n",
              "      <td>positive</td>\n",
              "    </tr>\n",
              "    <tr>\n",
              "      <th>1921</th>\n",
              "      <td>RT @TennisAtlantic: Newport Problems: @klein_b...</td>\n",
              "      <td>negative</td>\n",
              "    </tr>\n",
              "    <tr>\n",
              "      <th>740</th>\n",
              "      <td>RT @nbcbayarea: #UPDATE: Firefighters are work...</td>\n",
              "      <td>negative</td>\n",
              "    </tr>\n",
              "    <tr>\n",
              "      <th>...</th>\n",
              "      <td>...</td>\n",
              "      <td>...</td>\n",
              "    </tr>\n",
              "    <tr>\n",
              "      <th>2995</th>\n",
              "      <td>@foodandwine: These gooey, fudgy, caramelly br...</td>\n",
              "      <td>negative</td>\n",
              "    </tr>\n",
              "    <tr>\n",
              "      <th>287</th>\n",
              "      <td>@SkySportsNewsHQ since when was @SteveCotteril...</td>\n",
              "      <td>negative</td>\n",
              "    </tr>\n",
              "    <tr>\n",
              "      <th>1950</th>\n",
              "      <td>RT @Google_Facts_1: Gloucestershire airport in...</td>\n",
              "      <td>negative</td>\n",
              "    </tr>\n",
              "    <tr>\n",
              "      <th>2849</th>\n",
              "      <td>RT @AmnestyOnline: Ask @khamenei_ir to #SaveSa...</td>\n",
              "      <td>negative</td>\n",
              "    </tr>\n",
              "    <tr>\n",
              "      <th>1628</th>\n",
              "      <td>TOP DEALS : #81655 Mixed lot of 8 IDE Desktop ...</td>\n",
              "      <td>positive</td>\n",
              "    </tr>\n",
              "  </tbody>\n",
              "</table>\n",
              "<p>100 rows × 2 columns</p>\n",
              "</div>"
            ],
            "text/plain": [
              "                                                Caption     LABEL\n",
              "1634  Rowed & won as a \"junior\" in a Junior mixed 8 ...  positive\n",
              "2268  RT @charlesfrith: Cameron is desperate to make...  negative\n",
              "1207  RT @6CDM: Happy #valentinesday dear @AllisonMc...  positive\n",
              "1921  RT @TennisAtlantic: Newport Problems: @klein_b...  negative\n",
              "740   RT @nbcbayarea: #UPDATE: Firefighters are work...  negative\n",
              "...                                                 ...       ...\n",
              "2995  @foodandwine: These gooey, fudgy, caramelly br...  negative\n",
              "287   @SkySportsNewsHQ since when was @SteveCotteril...  negative\n",
              "1950  RT @Google_Facts_1: Gloucestershire airport in...  negative\n",
              "2849  RT @AmnestyOnline: Ask @khamenei_ir to #SaveSa...  negative\n",
              "1628  TOP DEALS : #81655 Mixed lot of 8 IDE Desktop ...  positive\n",
              "\n",
              "[100 rows x 2 columns]"
            ]
          },
          "execution_count": 7,
          "metadata": {},
          "output_type": "execute_result"
        }
      ],
      "source": [
        "df.sample(100)"
      ]
    },
    {
      "cell_type": "code",
      "execution_count": null,
      "metadata": {
        "id": "eWJYu_ccwrfW",
        "outputId": "b6cdf5d8-ad80-4578-cb78-90b458059442"
      },
      "outputs": [
        {
          "data": {
            "text/plain": [
              "LABEL\n",
              "positive    1646\n",
              "negative    1452\n",
              "Name: count, dtype: int64"
            ]
          },
          "execution_count": 8,
          "metadata": {},
          "output_type": "execute_result"
        }
      ],
      "source": [
        "df[\"LABEL\"].value_counts()"
      ]
    },
    {
      "cell_type": "code",
      "execution_count": null,
      "metadata": {
        "id": "wuYmKGwCwrfX"
      },
      "outputs": [],
      "source": [
        "df['LABEL'] = df['LABEL'].map({'negative':0, 'positive':1})"
      ]
    },
    {
      "cell_type": "markdown",
      "metadata": {
        "id": "_7gXDxPowrfX"
      },
      "source": [
        "# Preprocess"
      ]
    },
    {
      "cell_type": "code",
      "execution_count": null,
      "metadata": {
        "id": "wB_2YUk5wrfX"
      },
      "outputs": [],
      "source": [
        "def remove_usernames(text):\n",
        "    return re.sub(r'@\\w+', '', text)\n",
        "\n",
        "def remove_hashtags(text):\n",
        "    return re.sub(r'#', '', text)\n",
        "\n",
        "def clean_text(text):\n",
        "    # Removing URLs\n",
        "    text = re.sub(r'http\\S+|www\\S+|https\\S+', '', text, flags=re.MULTILINE)\n",
        "    # Removing special characters and numbers\n",
        "    text = re.sub(r'\\W', ' ', text)\n",
        "    text = re.sub(r'\\d', '', text)\n",
        "    # Removing extra spaces\n",
        "    text = re.sub(r'\\s+', ' ', text).strip()\n",
        "    return text\n",
        "\n",
        "def tokenize_text(text):\n",
        "    return word_tokenize(text)\n",
        "\n",
        "def case_folding(text):\n",
        "    return text.lower()\n",
        "\n",
        "def remove_stopwords(tokens):\n",
        "    stop_words = set(stopwords.words('english'))\n",
        "    return [word for word in tokens if word not in stop_words]\n",
        "\n",
        "def stem_tokens(tokens):\n",
        "    stemmer = PorterStemmer()\n",
        "    return [stemmer.stem(word) for word in tokens]\n",
        "\n",
        "def preprocess_text(text):\n",
        "    text = remove_usernames(text)\n",
        "    text = remove_hashtags(text)\n",
        "    text = clean_text(text)\n",
        "    text = case_folding(text)\n",
        "    tokens = tokenize_text(text)\n",
        "    tokens = remove_stopwords(tokens)\n",
        "    # tokens = stem_tokens(tokens)\n",
        "    return ' '.join(tokens)"
      ]
    },
    {
      "cell_type": "code",
      "execution_count": null,
      "metadata": {
        "id": "it5mIVyKwrfY",
        "outputId": "d06df85d-1d20-48cb-8d3d-e37eb5d0870e"
      },
      "outputs": [
        {
          "name": "stdout",
          "output_type": "stream",
          "text": [
            "On day 9.. It's now in my daily routine.. Feeling guuuuurdddd! ? #Aching #PainNoGain #FeelingGood \n",
            "day daily routine feeling guuuuurdddd aching painnogain feelinggood\n"
          ]
        }
      ],
      "source": [
        "text = df['Caption'][6]\n",
        "print(text)\n",
        "print(preprocess_text(text))"
      ]
    },
    {
      "cell_type": "markdown",
      "metadata": {
        "id": "GaCn3ra9wrfZ"
      },
      "source": [
        "# Preprocess"
      ]
    },
    {
      "cell_type": "code",
      "execution_count": null,
      "metadata": {
        "id": "e5WlqfiawrfZ"
      },
      "outputs": [],
      "source": [
        "X = df['Caption'].apply(preprocess_text)\n",
        "y = df['LABEL'].values"
      ]
    },
    {
      "cell_type": "markdown",
      "metadata": {
        "id": "DoX8cdh0wrfa"
      },
      "source": [
        "# Split"
      ]
    },
    {
      "cell_type": "code",
      "execution_count": null,
      "metadata": {
        "id": "qUqldnhowrfa"
      },
      "outputs": [],
      "source": [
        "x_train,x_test,y_train,y_test=train_test_split(X,y,test_size=0.2,random_state=11)"
      ]
    },
    {
      "cell_type": "markdown",
      "metadata": {
        "id": "KKWvfEQMwrfa"
      },
      "source": [
        "# Tokenize"
      ]
    },
    {
      "cell_type": "code",
      "execution_count": null,
      "metadata": {
        "id": "tsrQdLzfwrfb"
      },
      "outputs": [],
      "source": [
        "num_words = 1000\n",
        "embedding_dim = 50\n",
        "max_len = 60\n",
        "padding = 'post'\n",
        "oov_token = \"<null>\"\n"
      ]
    },
    {
      "cell_type": "code",
      "execution_count": null,
      "metadata": {
        "id": "XJnbfD_lwrfb"
      },
      "outputs": [],
      "source": [
        "def fit_tokenizer(train_sentences, num_words, oov_token):\n",
        "    # Encode each word\n",
        "    tokenizer = Tokenizer(num_words=num_words, oov_token=oov_token)\n",
        "    tokenizer.fit_on_texts(train_sentences)\n",
        "    return tokenizer"
      ]
    },
    {
      "cell_type": "code",
      "execution_count": null,
      "metadata": {
        "id": "cXOkGAP_wrfb"
      },
      "outputs": [],
      "source": [
        "tokenizer = fit_tokenizer(x_train, num_words, oov_token)\n",
        "word_index = tokenizer.word_index"
      ]
    },
    {
      "cell_type": "code",
      "execution_count": null,
      "metadata": {
        "id": "oIG-kNVxwrfb",
        "outputId": "64d3c542-0be1-4b51-f35d-f61baed803bf"
      },
      "outputs": [
        {
          "data": {
            "text/plain": [
              "{'<null>': 1,\n",
              " 'rt': 2,\n",
              " 'love': 3,\n",
              " 'happy': 4,\n",
              " 'day': 5,\n",
              " 'new': 6,\n",
              " 'today': 7,\n",
              " 'one': 8,\n",
              " 'take': 9,\n",
              " 'like': 10,\n",
              " 'get': 11,\n",
              " 'passionate': 12,\n",
              " 'night': 13,\n",
              " 'excited': 14,\n",
              " 'black': 15,\n",
              " 'quiz': 16,\n",
              " 'feeling': 17,\n",
              " 'happiness': 18,\n",
              " 'time': 19,\n",
              " 'got': 20,\n",
              " 'man': 21,\n",
              " 'life': 22,\n",
              " 'fun': 23,\n",
              " 'see': 24,\n",
              " 'htt': 25,\n",
              " 'vibrant': 26,\n",
              " 'u': 27,\n",
              " 'beautiful': 28,\n",
              " 'still': 29,\n",
              " 'strong': 30,\n",
              " 'last': 31,\n",
              " 'much': 32,\n",
              " 'crazy': 33,\n",
              " 'look': 34,\n",
              " 'fear': 35,\n",
              " 'distressed': 36,\n",
              " 'thank': 37,\n",
              " 'birthday': 38,\n",
              " 'good': 39,\n",
              " 'winter': 40,\n",
              " 'delighted': 41,\n",
              " 'ecstatic': 42,\n",
              " 'world': 43,\n",
              " 'year': 44,\n",
              " 'go': 45,\n",
              " 'positive': 46,\n",
              " 'valentine': 47,\n",
              " 'us': 48,\n",
              " 'broken': 49,\n",
              " 'february': 50,\n",
              " 'via': 51,\n",
              " 'h': 52,\n",
              " 'getting': 53,\n",
              " 'feel': 54,\n",
              " 'x': 55,\n",
              " 'back': 56,\n",
              " 'photo': 57,\n",
              " 'great': 58,\n",
              " 'cut': 59,\n",
              " 'little': 60,\n",
              " 'old': 61,\n",
              " 'energetic': 62,\n",
              " 'abandoned': 63,\n",
              " 'beauty': 64,\n",
              " 'rainy': 65,\n",
              " 'make': 66,\n",
              " 'first': 67,\n",
              " 'overjoyed': 68,\n",
              " 'devoted': 69,\n",
              " 'white': 70,\n",
              " 'full': 71,\n",
              " 'gloomy': 72,\n",
              " 'stormy': 73,\n",
              " 'windy': 74,\n",
              " 'finished': 75,\n",
              " 'intense': 76,\n",
              " 'joy': 77,\n",
              " 'never': 78,\n",
              " 'amazing': 79,\n",
              " 'girl': 80,\n",
              " 'depression': 81,\n",
              " 'best': 82,\n",
              " 'caring': 83,\n",
              " 'think': 84,\n",
              " 'tuesday': 85,\n",
              " 'calm': 86,\n",
              " 'blue': 87,\n",
              " 'know': 88,\n",
              " 'burned': 89,\n",
              " 'wild': 90,\n",
              " 'w': 91,\n",
              " 'top': 92,\n",
              " 'n': 93,\n",
              " 'thrilled': 94,\n",
              " 'really': 95,\n",
              " 'watch': 96,\n",
              " 'woman': 97,\n",
              " 'enthusiastic': 98,\n",
              " 'people': 99,\n",
              " 'let': 100,\n",
              " 'free': 101,\n",
              " 'disgraced': 102,\n",
              " 'de': 103,\n",
              " 'ht': 104,\n",
              " 'devastated': 105,\n",
              " 'damaged': 106,\n",
              " 'found': 107,\n",
              " 'im': 108,\n",
              " 'elated': 109,\n",
              " 'years': 110,\n",
              " 'hair': 111,\n",
              " 'trapped': 112,\n",
              " 'empty': 113,\n",
              " 'week': 114,\n",
              " 'th': 115,\n",
              " 'always': 116,\n",
              " 'fans': 117,\n",
              " 'going': 118,\n",
              " 'morning': 119,\n",
              " 'exposed': 120,\n",
              " 'valentines': 121,\n",
              " 'help': 122,\n",
              " 'wrong': 123,\n",
              " 'zealous': 124,\n",
              " 'petrified': 125,\n",
              " 'dogs': 126,\n",
              " 'depressed': 127,\n",
              " 'body': 128,\n",
              " 'well': 129,\n",
              " 'right': 130,\n",
              " 'part': 131,\n",
              " 'tonight': 132,\n",
              " 'team': 133,\n",
              " 'home': 134,\n",
              " 'looking': 135,\n",
              " 'cheerful': 136,\n",
              " 'crushed': 137,\n",
              " 'heart': 138,\n",
              " 'want': 139,\n",
              " 'isolated': 140,\n",
              " 'looks': 141,\n",
              " 'big': 142,\n",
              " 'art': 143,\n",
              " 'coffee': 144,\n",
              " 'dismal': 145,\n",
              " 'book': 146,\n",
              " 'days': 147,\n",
              " 'p': 148,\n",
              " 'left': 149,\n",
              " 'la': 150,\n",
              " 'thanks': 151,\n",
              " 'hot': 152,\n",
              " 'furious': 153,\n",
              " 'loving': 154,\n",
              " 'evening': 155,\n",
              " 'wicked': 156,\n",
              " 'come': 157,\n",
              " 'read': 158,\n",
              " 'baby': 159,\n",
              " 'video': 160,\n",
              " 'win': 161,\n",
              " 'evil': 162,\n",
              " 'twitter': 163,\n",
              " 'hope': 164,\n",
              " 'everyone': 165,\n",
              " 'kids': 166,\n",
              " 'scorned': 167,\n",
              " 'compassionate': 168,\n",
              " 'two': 169,\n",
              " 'uk': 170,\n",
              " 'picture': 171,\n",
              " 'dead': 172,\n",
              " 'anger': 173,\n",
              " 'horrified': 174,\n",
              " 'death': 175,\n",
              " 'another': 176,\n",
              " 'hurt': 177,\n",
              " 'even': 178,\n",
              " 'would': 179,\n",
              " 'r': 180,\n",
              " 'high': 181,\n",
              " 'tortured': 182,\n",
              " 'upset': 183,\n",
              " 'friend': 184,\n",
              " 'c': 185,\n",
              " 'cat': 186,\n",
              " 'desperate': 187,\n",
              " 'face': 188,\n",
              " 'kind': 189,\n",
              " 'god': 190,\n",
              " 'destroyed': 191,\n",
              " 'need': 192,\n",
              " 'every': 193,\n",
              " 'city': 194,\n",
              " 'party': 195,\n",
              " 'something': 196,\n",
              " 'guys': 197,\n",
              " 'cute': 198,\n",
              " 'work': 199,\n",
              " 'stunned': 200,\n",
              " 'summer': 201,\n",
              " 'music': 202,\n",
              " 'someone': 203,\n",
              " 'flawed': 204,\n",
              " 'ready': 205,\n",
              " 'show': 206,\n",
              " 'please': 207,\n",
              " 'pic': 208,\n",
              " 'e': 209,\n",
              " 'sparkling': 210,\n",
              " 'nice': 211,\n",
              " 'may': 212,\n",
              " 'bleak': 213,\n",
              " 'child': 214,\n",
              " 'k': 215,\n",
              " 'grim': 216,\n",
              " 'b': 217,\n",
              " 'buy': 218,\n",
              " 'check': 219,\n",
              " 'sad': 220,\n",
              " 'awesome': 221,\n",
              " 'reeling': 222,\n",
              " 'next': 223,\n",
              " 'women': 224,\n",
              " 'zippy': 225,\n",
              " 'shocked': 226,\n",
              " 'super': 227,\n",
              " 'news': 228,\n",
              " 'rejected': 229,\n",
              " 'forest': 230,\n",
              " 'beaten': 231,\n",
              " 'set': 232,\n",
              " 'light': 233,\n",
              " 'perfect': 234,\n",
              " 'confused': 235,\n",
              " 'turned': 236,\n",
              " 'family': 237,\n",
              " 'made': 238,\n",
              " 'care': 239,\n",
              " 'ruined': 240,\n",
              " 'share': 241,\n",
              " 'bleeding': 242,\n",
              " 'ó': 243,\n",
              " 'play': 244,\n",
              " 'dizzy': 245,\n",
              " 'others': 246,\n",
              " 'aching': 247,\n",
              " 'paralyzed': 248,\n",
              " 'london': 249,\n",
              " 'heated': 250,\n",
              " 'cold': 251,\n",
              " 'meet': 252,\n",
              " 'dog': 253,\n",
              " 'find': 254,\n",
              " 'cool': 255,\n",
              " 'lively': 256,\n",
              " 'crippled': 257,\n",
              " 'retweet': 258,\n",
              " 'bitter': 259,\n",
              " 'sexy': 260,\n",
              " 'yesterday': 261,\n",
              " 'friends': 262,\n",
              " 'bad': 263,\n",
              " 'boy': 264,\n",
              " 'follow': 265,\n",
              " 'way': 266,\n",
              " 'better': 267,\n",
              " 'despondent': 268,\n",
              " 'harry': 269,\n",
              " 'say': 270,\n",
              " 'chaotic': 271,\n",
              " 'oh': 272,\n",
              " 'poor': 273,\n",
              " 'miss': 274,\n",
              " 'frightened': 275,\n",
              " 'things': 276,\n",
              " 'speechless': 277,\n",
              " 'yet': 278,\n",
              " 'real': 279,\n",
              " 'park': 280,\n",
              " 'state': 281,\n",
              " 'selfie': 282,\n",
              " 'call': 283,\n",
              " 'sweet': 284,\n",
              " 'song': 285,\n",
              " 'hearted': 286,\n",
              " 'bit': 287,\n",
              " 'false': 288,\n",
              " 'stop': 289,\n",
              " 'wednesday': 290,\n",
              " 'lost': 291,\n",
              " 'behind': 292,\n",
              " 'desolate': 293,\n",
              " 'gold': 294,\n",
              " 'shook': 295,\n",
              " 'worthless': 296,\n",
              " 'girls': 297,\n",
              " 'winner': 298,\n",
              " 'anyone': 299,\n",
              " 'room': 300,\n",
              " 'live': 301,\n",
              " 'lady': 302,\n",
              " 'walking': 303,\n",
              " 'ever': 304,\n",
              " 'pretty': 305,\n",
              " 'many': 306,\n",
              " 'box': 307,\n",
              " 'appalled': 308,\n",
              " 'ebay': 309,\n",
              " 'hell': 310,\n",
              " 'try': 311,\n",
              " 'f': 312,\n",
              " 'learn': 313,\n",
              " 'lol': 314,\n",
              " 'children': 315,\n",
              " 'favorite': 316,\n",
              " 'deals': 317,\n",
              " 'medium': 318,\n",
              " 'half': 319,\n",
              " 'done': 320,\n",
              " 'photos': 321,\n",
              " 'mocked': 322,\n",
              " 'silver': 323,\n",
              " 'online': 324,\n",
              " 'helpless': 325,\n",
              " 'stabbed': 326,\n",
              " 'mind': 327,\n",
              " 'eyes': 328,\n",
              " 'red': 329,\n",
              " 'true': 330,\n",
              " 'animals': 331,\n",
              " 'cant': 332,\n",
              " 'painting': 333,\n",
              " 'worried': 334,\n",
              " 'away': 335,\n",
              " 'side': 336,\n",
              " 'ç': 337,\n",
              " 'ö': 338,\n",
              " 'à': 339,\n",
              " 'ã': 340,\n",
              " 'buoyant': 341,\n",
              " 'image': 342,\n",
              " 'outcast': 343,\n",
              " 'game': 344,\n",
              " 'second': 345,\n",
              " 'hopeless': 346,\n",
              " 'start': 347,\n",
              " 'euphoric': 348,\n",
              " 'fury': 349,\n",
              " 'yes': 350,\n",
              " 'person': 351,\n",
              " 'impotent': 352,\n",
              " 'soft': 353,\n",
              " 'run': 354,\n",
              " 'moment': 355,\n",
              " 'lot': 356,\n",
              " 'un': 357,\n",
              " 'guy': 358,\n",
              " 'en': 359,\n",
              " 'car': 360,\n",
              " 'working': 361,\n",
              " 'shamed': 362,\n",
              " 'proud': 363,\n",
              " 'finally': 364,\n",
              " 'judged': 365,\n",
              " 'announce': 366,\n",
              " 'believe': 367,\n",
              " 'post': 368,\n",
              " 'must': 369,\n",
              " 'usa': 370,\n",
              " 'media': 371,\n",
              " 'sea': 372,\n",
              " 'î': 373,\n",
              " 'forever': 374,\n",
              " 'support': 375,\n",
              " 'colorsplash': 376,\n",
              " 'bw': 377,\n",
              " 'group': 378,\n",
              " 'blog': 379,\n",
              " 'nyc': 380,\n",
              " 'defeated': 381,\n",
              " 'pm': 382,\n",
              " 'history': 383,\n",
              " 'el': 384,\n",
              " 'inside': 385,\n",
              " 'could': 386,\n",
              " 'training': 387,\n",
              " 'stopboknal': 388,\n",
              " 'smile': 389,\n",
              " 'head': 390,\n",
              " 'house': 391,\n",
              " 'travel': 392,\n",
              " 'single': 393,\n",
              " 'hey': 394,\n",
              " 'deserted': 395,\n",
              " 'funny': 396,\n",
              " 'colour': 397,\n",
              " 'shot': 398,\n",
              " 'vs': 399,\n",
              " 'anxiety': 400,\n",
              " 'though': 401,\n",
              " 'cream': 402,\n",
              " 'outraged': 403,\n",
              " 'thing': 404,\n",
              " 'phone': 405,\n",
              " 'visit': 406,\n",
              " 'size': 407,\n",
              " 'small': 408,\n",
              " 'shooting': 409,\n",
              " 'ur': 410,\n",
              " 'loneliness': 411,\n",
              " 'gets': 412,\n",
              " 'fishing': 413,\n",
              " 'zero': 414,\n",
              " 'sterling': 415,\n",
              " 'community': 416,\n",
              " 'coming': 417,\n",
              " 'band': 418,\n",
              " 'stand': 419,\n",
              " 'blemished': 420,\n",
              " 'valentinesday': 421,\n",
              " 'fuming': 422,\n",
              " 'festival': 423,\n",
              " 'enjoy': 424,\n",
              " 'dark': 425,\n",
              " 'wow': 426,\n",
              " 'together': 427,\n",
              " 'making': 428,\n",
              " 'mixed': 429,\n",
              " 'l': 430,\n",
              " 'æ': 431,\n",
              " 'þ': 432,\n",
              " 'makes': 433,\n",
              " 'movie': 434,\n",
              " 'season': 435,\n",
              " 'million': 436,\n",
              " 'loved': 437,\n",
              " 'discarded': 438,\n",
              " 'leather': 439,\n",
              " 'fire': 440,\n",
              " 'men': 441,\n",
              " 'mom': 442,\n",
              " 'cause': 443,\n",
              " 'album': 444,\n",
              " 'newyearsday': 445,\n",
              " 'food': 446,\n",
              " 'police': 447,\n",
              " 'elevated': 448,\n",
              " 'also': 449,\n",
              " 'learning': 450,\n",
              " 'ardent': 451,\n",
              " 'sex': 452,\n",
              " 'confusion': 453,\n",
              " 'terrified': 454,\n",
              " 'india': 455,\n",
              " 'inferior': 456,\n",
              " 'grammys': 457,\n",
              " 'serena': 458,\n",
              " 'williams': 459,\n",
              " 'goes': 460,\n",
              " 'give': 461,\n",
              " 'dad': 462,\n",
              " 'hello': 463,\n",
              " 'tomorrow': 464,\n",
              " 'deal': 465,\n",
              " 'shit': 466,\n",
              " 'young': 467,\n",
              " 'clear': 468,\n",
              " 'pain': 469,\n",
              " 'whipped': 470,\n",
              " 'na': 471,\n",
              " 'long': 472,\n",
              " 'fond': 473,\n",
              " 'forsaken': 474,\n",
              " 'join': 475,\n",
              " 'course': 476,\n",
              " 'chocolate': 477,\n",
              " 'money': 478,\n",
              " 'fan': 479,\n",
              " 'nothing': 480,\n",
              " 'view': 481,\n",
              " 'infatuated': 482,\n",
              " 'pics': 483,\n",
              " 'mm': 484,\n",
              " 'yr': 485,\n",
              " 'gift': 486,\n",
              " 'angel': 487,\n",
              " 'safe': 488,\n",
              " 'quote': 489,\n",
              " 'trying': 490,\n",
              " 'harryappreciationday': 491,\n",
              " 'short': 492,\n",
              " 'watching': 493,\n",
              " 'point': 494,\n",
              " 'bag': 495,\n",
              " 'absolutely': 496,\n",
              " 'healthy': 497,\n",
              " 'hate': 498,\n",
              " 'beach': 499,\n",
              " 'beat': 500,\n",
              " 'already': 501,\n",
              " 'fit': 502,\n",
              " 'gb': 503,\n",
              " 'taking': 504,\n",
              " 'story': 505,\n",
              " 'wife': 506,\n",
              " 'used': 507,\n",
              " 'riding': 508,\n",
              " 'powerless': 509,\n",
              " 'jesus': 510,\n",
              " 'end': 511,\n",
              " 'alive': 512,\n",
              " 'pack': 513,\n",
              " 'lovely': 514,\n",
              " 'neglected': 515,\n",
              " 'ebullient': 516,\n",
              " 'hours': 517,\n",
              " '¹': 518,\n",
              " 'è': 519,\n",
              " 'ê': 520,\n",
              " 'health': 521,\n",
              " 'cherishing': 522,\n",
              " 'nobody': 523,\n",
              " 'use': 524,\n",
              " 'fashion': 525,\n",
              " 'wimbledon': 526,\n",
              " 'final': 527,\n",
              " 'called': 528,\n",
              " 'cats': 529,\n",
              " 'far': 530,\n",
              " 'said': 531,\n",
              " 'ú': 532,\n",
              " 'wait': 533,\n",
              " 'que': 534,\n",
              " 'boyfriend': 535,\n",
              " 'es': 536,\n",
              " 'disney': 537,\n",
              " 'weak': 538,\n",
              " 'saw': 539,\n",
              " 'rock': 540,\n",
              " 'attack': 541,\n",
              " 'j': 542,\n",
              " 'low': 543,\n",
              " 'seeing': 544,\n",
              " 'snow': 545,\n",
              " 'knows': 546,\n",
              " 'fast': 547,\n",
              " 'ufc': 548,\n",
              " 'lord': 549,\n",
              " 'serious': 550,\n",
              " 'wounded': 551,\n",
              " 'dying': 552,\n",
              " 'shoes': 553,\n",
              " 'daughter': 554,\n",
              " 'bright': 555,\n",
              " 'hear': 556,\n",
              " 'idea': 557,\n",
              " 'cookies': 558,\n",
              " 'inch': 559,\n",
              " 'everything': 560,\n",
              " 'progress': 561,\n",
              " 'talk': 562,\n",
              " 'nervous': 563,\n",
              " 'van': 564,\n",
              " 'dancing': 565,\n",
              " 'thunderstruck': 566,\n",
              " 'welcome': 567,\n",
              " 'stumped': 568,\n",
              " 'sdcc': 569,\n",
              " 'office': 570,\n",
              " 'memories': 571,\n",
              " 'less': 572,\n",
              " 'delinquent': 573,\n",
              " 'illegal': 574,\n",
              " 'ok': 575,\n",
              " 'con': 576,\n",
              " 'talented': 577,\n",
              " 'hard': 578,\n",
              " 'pictures': 579,\n",
              " 'overwhelmed': 580,\n",
              " 'dejected': 581,\n",
              " 'finds': 582,\n",
              " 'award': 583,\n",
              " 'eating': 584,\n",
              " 'bar': 585,\n",
              " 'hath': 586,\n",
              " 'horse': 587,\n",
              " 'gorgeous': 588,\n",
              " 'natural': 589,\n",
              " 'kitchen': 590,\n",
              " 'copy': 591,\n",
              " 'mother': 592,\n",
              " 'president': 593,\n",
              " 'hearts': 594,\n",
              " 'told': 595,\n",
              " 'came': 596,\n",
              " 'v': 597,\n",
              " 'since': 598,\n",
              " 'system': 599,\n",
              " 'vintage': 600,\n",
              " 'dear': 601,\n",
              " 'blood': 602,\n",
              " 'train': 603,\n",
              " 'filled': 604,\n",
              " 'reading': 605,\n",
              " 'skittish': 606,\n",
              " 'washed': 607,\n",
              " 'taken': 608,\n",
              " 'useless': 609,\n",
              " 'exclusive': 610,\n",
              " 'girlfriend': 611,\n",
              " 'amateur': 612,\n",
              " 'oz': 613,\n",
              " 'á': 614,\n",
              " 'series': 615,\n",
              " 'says': 616,\n",
              " 'stuck': 617,\n",
              " 'winning': 618,\n",
              " 'around': 619,\n",
              " 'workout': 620,\n",
              " 'wonderful': 621,\n",
              " 'fervent': 622,\n",
              " 'brown': 623,\n",
              " 'round': 624,\n",
              " 'creepy': 625,\n",
              " 'omg': 626,\n",
              " 'prize': 627,\n",
              " 'without': 628,\n",
              " 'pay': 629,\n",
              " 'haha': 630,\n",
              " 'liam': 631,\n",
              " 'truth': 632,\n",
              " 'sisters': 633,\n",
              " 'monday': 634,\n",
              " 'aglow': 635,\n",
              " 'fucking': 636,\n",
              " 'fuck': 637,\n",
              " 'feeble': 638,\n",
              " 'card': 639,\n",
              " 'class': 640,\n",
              " 'simple': 641,\n",
              " 'naked': 642,\n",
              " 'met': 643,\n",
              " 'ana': 644,\n",
              " 'nicki': 645,\n",
              " 'crap': 646,\n",
              " 'ice': 647,\n",
              " 'mortified': 648,\n",
              " 'special': 649,\n",
              " 'í': 650,\n",
              " 'gym': 651,\n",
              " 'gone': 652,\n",
              " 'womens': 653,\n",
              " 'fabulous': 654,\n",
              " 'sky': 655,\n",
              " 'al': 656,\n",
              " 'future': 657,\n",
              " 'imperfect': 658,\n",
              " 'fact': 659,\n",
              " 'else': 660,\n",
              " 'late': 661,\n",
              " 'self': 662,\n",
              " 'sinful': 663,\n",
              " 'jeans': 664,\n",
              " 'tips': 665,\n",
              " 'along': 666,\n",
              " 'forward': 667,\n",
              " 'belligerent': 668,\n",
              " 'chris': 669,\n",
              " 'nd': 670,\n",
              " 'feelings': 671,\n",
              " 'everybody': 672,\n",
              " 'rowling': 673,\n",
              " 'brings': 674,\n",
              " 'fall': 675,\n",
              " 'alone': 676,\n",
              " 'title': 677,\n",
              " 'sore': 678,\n",
              " 'crowd': 679,\n",
              " 'per': 680,\n",
              " 'dude': 681,\n",
              " 'button': 682,\n",
              " 'scary': 683,\n",
              " 'dream': 684,\n",
              " 'crush': 685,\n",
              " 'bid': 686,\n",
              " 'arrival': 687,\n",
              " 'rose': 688,\n",
              " 'case': 689,\n",
              " 'muslims': 690,\n",
              " 'whole': 691,\n",
              " 'times': 692,\n",
              " 'front': 693,\n",
              " 'action': 694,\n",
              " 'power': 695,\n",
              " 'wear': 696,\n",
              " 'crying': 697,\n",
              " 'blake': 698,\n",
              " 'grey': 699,\n",
              " 'york': 700,\n",
              " 'died': 701,\n",
              " 'protest': 702,\n",
              " 'rare': 703,\n",
              " 'july': 704,\n",
              " 'tattoo': 705,\n",
              " 'official': 706,\n",
              " 'israeli': 707,\n",
              " 'colors': 708,\n",
              " 'place': 709,\n",
              " 'thrown': 710,\n",
              " 'comic': 711,\n",
              " 'truly': 712,\n",
              " 'minute': 713,\n",
              " 'might': 714,\n",
              " 'known': 715,\n",
              " 'human': 716,\n",
              " 'helping': 717,\n",
              " 'smart': 718,\n",
              " 'weather': 719,\n",
              " 'field': 720,\n",
              " 'lmao': 721,\n",
              " 'water': 722,\n",
              " 'ft': 723,\n",
              " 'soon': 724,\n",
              " 'tweet': 725,\n",
              " 'celebrate': 726,\n",
              " 'sent': 727,\n",
              " 'shades': 728,\n",
              " 'listening': 729,\n",
              " 'wtf': 730,\n",
              " 'blurred': 731,\n",
              " 'asked': 732,\n",
              " 'blotched': 733,\n",
              " 'eye': 734,\n",
              " 'ago': 735,\n",
              " 'row': 736,\n",
              " 'entire': 737,\n",
              " 'fight': 738,\n",
              " 'babies': 739,\n",
              " 'impaired': 740,\n",
              " 'club': 741,\n",
              " 'gradient': 742,\n",
              " 'grain': 743,\n",
              " 'giving': 744,\n",
              " 'earrings': 745,\n",
              " 'cover': 746,\n",
              " 'lead': 747,\n",
              " 'breath': 748,\n",
              " 'film': 749,\n",
              " 'tears': 750,\n",
              " 'thoughts': 751,\n",
              " 'motivation': 752,\n",
              " 'faith': 753,\n",
              " 'send': 754,\n",
              " 'games': 755,\n",
              " 'dinner': 756,\n",
              " 'fine': 757,\n",
              " 'ya': 758,\n",
              " 'sale': 759,\n",
              " 'ß': 760,\n",
              " 'ë': 761,\n",
              " 'kinda': 762,\n",
              " 'camera': 763,\n",
              " 'missing': 764,\n",
              " 'model': 765,\n",
              " 'stay': 766,\n",
              " 'meek': 767,\n",
              " 'thought': 768,\n",
              " 'yoga': 769,\n",
              " 'charm': 770,\n",
              " 'print': 771,\n",
              " 'alarmed': 772,\n",
              " 'photography': 773,\n",
              " 'tv': 774,\n",
              " 'mia': 775,\n",
              " 'puppy': 776,\n",
              " 'mill': 777,\n",
              " 'pup': 778,\n",
              " 'pop': 779,\n",
              " 'peace': 780,\n",
              " 'drake': 781,\n",
              " 'goal': 782,\n",
              " 'started': 783,\n",
              " 'street': 784,\n",
              " 'living': 785,\n",
              " 'intimidated': 786,\n",
              " 'pls': 787,\n",
              " 'competition': 788,\n",
              " 'glasses': 789,\n",
              " 'shunned': 790,\n",
              " 'keep': 791,\n",
              " 'com': 792,\n",
              " 'civilians': 793,\n",
              " 'premiere': 794,\n",
              " 'episode': 795,\n",
              " 'exasperated': 796,\n",
              " 'st': 797,\n",
              " 'orange': 798,\n",
              " 'classic': 799,\n",
              " 'style': 800,\n",
              " 'trailer': 801,\n",
              " 'needs': 802,\n",
              " 'shop': 803,\n",
              " 'mindfulness': 804,\n",
              " 'save': 805,\n",
              " 'breaking': 806,\n",
              " 'hd': 807,\n",
              " 'gleeful': 808,\n",
              " 'abused': 809,\n",
              " 'worst': 810,\n",
              " 'manchester': 811,\n",
              " 'walk': 812,\n",
              " 'dont': 813,\n",
              " 'word': 814,\n",
              " 'cake': 815,\n",
              " 'unique': 816,\n",
              " 'battle': 817,\n",
              " 'program': 818,\n",
              " 'prime': 819,\n",
              " 'clock': 820,\n",
              " 'remember': 821,\n",
              " 'et': 822,\n",
              " 'lots': 823,\n",
              " 'parents': 824,\n",
              " 'waiting': 825,\n",
              " 'blessed': 826,\n",
              " 'sign': 827,\n",
              " 'tell': 828,\n",
              " 'school': 829,\n",
              " 'reason': 830,\n",
              " 'louis': 831,\n",
              " 'guide': 832,\n",
              " 'incredible': 833,\n",
              " 'doting': 834,\n",
              " 'prince': 835,\n",
              " 'george': 836,\n",
              " 'troll': 837,\n",
              " 'garden': 838,\n",
              " 'worry': 839,\n",
              " 'daddy': 840,\n",
              " 'huggy': 841,\n",
              " 'played': 842,\n",
              " 'plastic': 843,\n",
              " 'pink': 844,\n",
              " 'bring': 845,\n",
              " 'early': 846,\n",
              " 'football': 847,\n",
              " 'brand': 848,\n",
              " 'double': 849,\n",
              " 'king': 850,\n",
              " 'px': 851,\n",
              " 'led': 852,\n",
              " 'hip': 853,\n",
              " 'drug': 854,\n",
              " 'talent': 855,\n",
              " 'fav': 856,\n",
              " 'sir': 857,\n",
              " 'available': 858,\n",
              " 'montreal': 859,\n",
              " 'cancer': 860,\n",
              " 'treat': 861,\n",
              " 'teachers': 862,\n",
              " 'extremely': 863,\n",
              " 'remorse': 864,\n",
              " 'diamond': 865,\n",
              " 'awful': 866,\n",
              " 'touch': 867,\n",
              " 'les': 868,\n",
              " 'te': 869,\n",
              " 'skinny': 870,\n",
              " 'biggest': 871,\n",
              " 'wood': 872,\n",
              " 'smith': 873,\n",
              " 'emotional': 874,\n",
              " 'flower': 875,\n",
              " 'adoring': 876,\n",
              " 'fat': 877,\n",
              " 'killing': 878,\n",
              " 'loves': 879,\n",
              " 'leaves': 880,\n",
              " 'river': 881,\n",
              " 'fence': 882,\n",
              " 'star': 883,\n",
              " 'result': 884,\n",
              " 'drawing': 885,\n",
              " 'wine': 886,\n",
              " 'response': 887,\n",
              " 'chinese': 888,\n",
              " 'mens': 889,\n",
              " 'sunday': 890,\n",
              " 'worshipful': 891,\n",
              " 'tbt': 892,\n",
              " 'reality': 893,\n",
              " 'seriously': 894,\n",
              " 'dress': 895,\n",
              " 'turns': 896,\n",
              " 'expert': 897,\n",
              " 'hiring': 898,\n",
              " 'secret': 899,\n",
              " 'shocking': 900,\n",
              " 'congratulations': 901,\n",
              " 'powerful': 902,\n",
              " 'swear': 903,\n",
              " 'united': 904,\n",
              " 'running': 905,\n",
              " 'penalty': 906,\n",
              " 'older': 907,\n",
              " 'yemen': 908,\n",
              " 'jews': 909,\n",
              " 'walks': 910,\n",
              " 'feet': 911,\n",
              " 'bitch': 912,\n",
              " 'letter': 913,\n",
              " 'slow': 914,\n",
              " 'san': 915,\n",
              " 'merry': 916,\n",
              " 'born': 917,\n",
              " 'road': 918,\n",
              " 'ig': 919,\n",
              " 'writing': 920,\n",
              " 'sister': 921,\n",
              " 'posted': 922,\n",
              " 'sight': 923,\n",
              " 'obama': 924,\n",
              " 'iphone': 925,\n",
              " 'congrats': 926,\n",
              " 'attitude': 927,\n",
              " 'fox': 928,\n",
              " 'keeptheban': 929,\n",
              " 'atmosphere': 930,\n",
              " 'glad': 931,\n",
              " 'videos': 932,\n",
              " 'drunk': 933,\n",
              " 'willing': 934,\n",
              " 'incapable': 935,\n",
              " 'lose': 936,\n",
              " 'barren': 937,\n",
              " 'marooned': 938,\n",
              " 'logo': 939,\n",
              " 'yellow': 940,\n",
              " 'halloween': 941,\n",
              " 'large': 942,\n",
              " 'warm': 943,\n",
              " 'throwback': 944,\n",
              " 'space': 945,\n",
              " 'violate': 946,\n",
              " 'butttt': 947,\n",
              " 'grown': 948,\n",
              " 'wanted': 949,\n",
              " 'passion': 950,\n",
              " 'sorry': 951,\n",
              " 'march': 952,\n",
              " 'green': 953,\n",
              " 'wake': 954,\n",
              " 'couple': 955,\n",
              " 'votes': 956,\n",
              " 'weekend': 957,\n",
              " 'innocent': 958,\n",
              " 'weeks': 959,\n",
              " 'thin': 960,\n",
              " 'vegan': 961,\n",
              " 'é': 962,\n",
              " 'past': 963,\n",
              " 'pregnant': 964,\n",
              " 'product': 965,\n",
              " 'success': 966,\n",
              " 'õ': 967,\n",
              " 'pumped': 968,\n",
              " 'awkward': 969,\n",
              " 'south': 970,\n",
              " 'hungry': 971,\n",
              " 'places': 972,\n",
              " 'bike': 973,\n",
              " 'fantastic': 974,\n",
              " 'spend': 975,\n",
              " 'skin': 976,\n",
              " 'fitness': 977,\n",
              " 'collection': 978,\n",
              " 'rea': 979,\n",
              " 'months': 980,\n",
              " 'hotel': 981,\n",
              " 'anything': 982,\n",
              " 'romance': 983,\n",
              " 'stolen': 984,\n",
              " 'pluto': 985,\n",
              " 'control': 986,\n",
              " 'ct': 987,\n",
              " 'inspired': 988,\n",
              " 'ex': 989,\n",
              " 'military': 990,\n",
              " 'wedding': 991,\n",
              " 'anti': 992,\n",
              " 'religious': 993,\n",
              " 'animal': 994,\n",
              " 'mad': 995,\n",
              " 'noah': 996,\n",
              " 'ugly': 997,\n",
              " 'joe': 998,\n",
              " 'market': 999,\n",
              " 'bloody': 1000,\n",
              " ...}"
            ]
          },
          "execution_count": 17,
          "metadata": {},
          "output_type": "execute_result"
        }
      ],
      "source": [
        "word_index"
      ]
    },
    {
      "cell_type": "markdown",
      "metadata": {
        "id": "QHr0ioWxwrfb"
      },
      "source": [
        "# Encode each sentence and pad"
      ]
    },
    {
      "cell_type": "code",
      "execution_count": null,
      "metadata": {
        "id": "7JH07ZMWwrfc"
      },
      "outputs": [],
      "source": [
        "def seq_and_pad(sentences, tokenizer, padding, maxlen):\n",
        "    sequences = tokenizer.texts_to_sequences(sentences)\n",
        "    padded_sequences = pad_sequences(sequences, maxlen=maxlen, padding=padding)\n",
        "    return padded_sequences"
      ]
    },
    {
      "cell_type": "code",
      "execution_count": null,
      "metadata": {
        "id": "Y8QqZpVkwrfc"
      },
      "outputs": [],
      "source": [
        "train_padded_seq = seq_and_pad(x_train, tokenizer, padding, max_len)\n",
        "val_padded_seq = seq_and_pad(x_test, tokenizer, padding, max_len)"
      ]
    },
    {
      "cell_type": "code",
      "execution_count": null,
      "metadata": {
        "id": "kUHCuN-bwrfc",
        "outputId": "40b1600b-4c41-4458-d3f3-2a4d6be5b733"
      },
      "outputs": [
        {
          "data": {
            "text/plain": [
              "array([830, 125,   1,   1,   0,   0,   0,   0,   0,   0,   0,   0,   0,\n",
              "         0,   0,   0,   0,   0,   0,   0,   0,   0,   0,   0,   0,   0,\n",
              "         0,   0,   0,   0,   0,   0,   0,   0,   0,   0,   0,   0,   0,\n",
              "         0,   0,   0,   0,   0,   0,   0,   0,   0,   0,   0,   0,   0,\n",
              "         0,   0,   0,   0,   0,   0,   0,   0])"
            ]
          },
          "execution_count": 20,
          "metadata": {},
          "output_type": "execute_result"
        }
      ],
      "source": [
        "train_padded_seq[0]"
      ]
    },
    {
      "cell_type": "code",
      "execution_count": null,
      "metadata": {
        "id": "fdmWkJJcwrfd",
        "outputId": "6f715dda-0213-42da-d0c7-b1af7feb1d77"
      },
      "outputs": [
        {
          "name": "stdout",
          "output_type": "stream",
          "text": [
            "Padded training sequences have shape: (2478, 60)\n",
            "\n",
            "Padded validation sequences have shape: (620, 60)\n"
          ]
        }
      ],
      "source": [
        "print(f\"Padded training sequences have shape: {train_padded_seq.shape}\\n\")\n",
        "print(f\"Padded validation sequences have shape: {val_padded_seq.shape}\")"
      ]
    },
    {
      "cell_type": "markdown",
      "metadata": {
        "id": "6i6V_bW_wrfe"
      },
      "source": [
        "# Build Model"
      ]
    },
    {
      "cell_type": "markdown",
      "metadata": {
        "id": "bUXht9U9wrff"
      },
      "source": [
        "![ANN.jpg](attachment:ANN.jpg)"
      ]
    },
    {
      "cell_type": "code",
      "execution_count": null,
      "metadata": {
        "id": "zu5pP_fzwrfg"
      },
      "outputs": [],
      "source": [
        "model = tf.keras.Sequential([\n",
        "    tf.keras.layers.Embedding(num_words, embedding_dim, input_length=max_len),\n",
        "    tf.keras.layers.GlobalAveragePooling1D(),\n",
        "    tf.keras.layers.Dense(24, activation='relu'),\n",
        "    tf.keras.layers.Dense(2, activation='softmax')\n",
        "])"
      ]
    },
    {
      "cell_type": "code",
      "execution_count": null,
      "metadata": {
        "id": "o_bGyxbtwrfg"
      },
      "outputs": [],
      "source": [
        "model.compile(loss='sparse_categorical_crossentropy',\n",
        "                optimizer='adam',\n",
        "                metrics=['accuracy'])"
      ]
    },
    {
      "cell_type": "code",
      "execution_count": null,
      "metadata": {
        "id": "m-mG2JBfwrfg",
        "outputId": "58ae6d84-6f79-4351-80b1-79dc085293c2"
      },
      "outputs": [
        {
          "name": "stdout",
          "output_type": "stream",
          "text": [
            "Epoch 1/30\n",
            "78/78 [==============================] - 2s 7ms/step - loss: 0.6902 - accuracy: 0.5359 - val_loss: 0.6909 - val_accuracy: 0.5129\n",
            "Epoch 2/30\n",
            "78/78 [==============================] - 0s 4ms/step - loss: 0.6844 - accuracy: 0.5359 - val_loss: 0.6822 - val_accuracy: 0.5129\n",
            "Epoch 3/30\n",
            "78/78 [==============================] - 0s 4ms/step - loss: 0.6651 - accuracy: 0.5888 - val_loss: 0.6535 - val_accuracy: 0.7210\n",
            "Epoch 4/30\n",
            "78/78 [==============================] - 0s 3ms/step - loss: 0.6092 - accuracy: 0.7550 - val_loss: 0.5951 - val_accuracy: 0.6032\n",
            "Epoch 5/30\n",
            "78/78 [==============================] - 0s 3ms/step - loss: 0.4931 - accuracy: 0.8571 - val_loss: 0.4786 - val_accuracy: 0.8323\n",
            "Epoch 6/30\n",
            "78/78 [==============================] - 0s 5ms/step - loss: 0.3769 - accuracy: 0.8931 - val_loss: 0.3924 - val_accuracy: 0.8500\n",
            "Epoch 7/30\n",
            "78/78 [==============================] - 0s 4ms/step - loss: 0.2872 - accuracy: 0.9253 - val_loss: 0.3538 - val_accuracy: 0.8581\n",
            "Epoch 8/30\n",
            "78/78 [==============================] - 0s 5ms/step - loss: 0.2365 - accuracy: 0.9241 - val_loss: 0.3267 - val_accuracy: 0.8661\n",
            "Epoch 9/30\n",
            "78/78 [==============================] - 0s 6ms/step - loss: 0.2028 - accuracy: 0.9342 - val_loss: 0.3236 - val_accuracy: 0.8613\n",
            "Epoch 10/30\n",
            "78/78 [==============================] - 0s 5ms/step - loss: 0.1796 - accuracy: 0.9399 - val_loss: 0.3181 - val_accuracy: 0.8613\n",
            "Epoch 11/30\n",
            "78/78 [==============================] - 0s 6ms/step - loss: 0.1644 - accuracy: 0.9455 - val_loss: 0.3121 - val_accuracy: 0.8629\n",
            "Epoch 12/30\n",
            "78/78 [==============================] - 0s 5ms/step - loss: 0.1464 - accuracy: 0.9492 - val_loss: 0.3189 - val_accuracy: 0.8548\n",
            "Epoch 13/30\n",
            "78/78 [==============================] - 0s 5ms/step - loss: 0.1354 - accuracy: 0.9560 - val_loss: 0.3241 - val_accuracy: 0.8548\n",
            "Epoch 14/30\n",
            "78/78 [==============================] - 0s 5ms/step - loss: 0.1265 - accuracy: 0.9564 - val_loss: 0.3297 - val_accuracy: 0.8597\n",
            "Epoch 15/30\n",
            "78/78 [==============================] - 0s 4ms/step - loss: 0.1174 - accuracy: 0.9629 - val_loss: 0.3628 - val_accuracy: 0.8565\n",
            "Epoch 16/30\n",
            "78/78 [==============================] - 0s 3ms/step - loss: 0.1108 - accuracy: 0.9617 - val_loss: 0.3455 - val_accuracy: 0.8645\n",
            "Epoch 17/30\n",
            "78/78 [==============================] - 0s 4ms/step - loss: 0.1048 - accuracy: 0.9629 - val_loss: 0.3593 - val_accuracy: 0.8629\n",
            "Epoch 18/30\n",
            "78/78 [==============================] - 0s 4ms/step - loss: 0.0975 - accuracy: 0.9677 - val_loss: 0.3680 - val_accuracy: 0.8677\n",
            "Epoch 19/30\n",
            "78/78 [==============================] - 0s 3ms/step - loss: 0.0936 - accuracy: 0.9673 - val_loss: 0.3769 - val_accuracy: 0.8677\n",
            "Epoch 20/30\n",
            "78/78 [==============================] - 0s 3ms/step - loss: 0.0890 - accuracy: 0.9697 - val_loss: 0.3963 - val_accuracy: 0.8661\n",
            "Epoch 21/30\n",
            "78/78 [==============================] - 0s 3ms/step - loss: 0.0881 - accuracy: 0.9693 - val_loss: 0.3959 - val_accuracy: 0.8645\n",
            "Epoch 22/30\n",
            "78/78 [==============================] - 0s 3ms/step - loss: 0.0793 - accuracy: 0.9738 - val_loss: 0.4166 - val_accuracy: 0.8661\n",
            "Epoch 23/30\n",
            "78/78 [==============================] - 0s 3ms/step - loss: 0.0798 - accuracy: 0.9730 - val_loss: 0.4458 - val_accuracy: 0.8565\n",
            "Epoch 24/30\n",
            "78/78 [==============================] - 0s 3ms/step - loss: 0.0785 - accuracy: 0.9750 - val_loss: 0.4326 - val_accuracy: 0.8694\n",
            "Epoch 25/30\n",
            "78/78 [==============================] - 0s 3ms/step - loss: 0.0789 - accuracy: 0.9738 - val_loss: 0.4409 - val_accuracy: 0.8581\n",
            "Epoch 26/30\n",
            "78/78 [==============================] - 0s 3ms/step - loss: 0.0730 - accuracy: 0.9742 - val_loss: 0.4529 - val_accuracy: 0.8597\n",
            "Epoch 27/30\n",
            "78/78 [==============================] - 0s 3ms/step - loss: 0.0674 - accuracy: 0.9802 - val_loss: 0.4633 - val_accuracy: 0.8645\n",
            "Epoch 28/30\n",
            "78/78 [==============================] - 0s 3ms/step - loss: 0.0657 - accuracy: 0.9782 - val_loss: 0.4678 - val_accuracy: 0.8645\n",
            "Epoch 29/30\n",
            "78/78 [==============================] - 0s 3ms/step - loss: 0.0656 - accuracy: 0.9802 - val_loss: 0.4992 - val_accuracy: 0.8645\n",
            "Epoch 30/30\n",
            "78/78 [==============================] - 0s 3ms/step - loss: 0.0611 - accuracy: 0.9790 - val_loss: 0.5031 - val_accuracy: 0.8597\n"
          ]
        }
      ],
      "source": [
        "history = model.fit(train_padded_seq, y_train, epochs=30, validation_data=(val_padded_seq, y_test))"
      ]
    },
    {
      "cell_type": "markdown",
      "metadata": {
        "id": "ln-8quqNwrfh"
      },
      "source": [
        "# Visualize Training"
      ]
    },
    {
      "cell_type": "code",
      "execution_count": null,
      "metadata": {
        "id": "mI9Nzj91wrfh",
        "outputId": "66c1c9df-b31a-4e74-fe9b-60568d8e0879"
      },
      "outputs": [
        {
          "data": {
            "image/png": "[encoded data removed]",
            "text/plain": [
              "<Figure size 640x480 with 1 Axes>"
            ]
          },
          "metadata": {},
          "output_type": "display_data"
        },
        {
          "data": {
            "image/png": "[encoded data removed]",
            "text/plain": [
              "<Figure size 640x480 with 1 Axes>"
            ]
          },
          "metadata": {},
          "output_type": "display_data"
        }
      ],
      "source": [
        "def plot_graphs(history, metric):\n",
        "    plt.plot(history.history[metric])\n",
        "    plt.plot(history.history[f'val_{metric}'])\n",
        "    plt.xlabel(\"Epochs\")\n",
        "    plt.ylabel(metric)\n",
        "    plt.legend([metric, f'val_{metric}'])\n",
        "    plt.show()\n",
        "\n",
        "plot_graphs(history, \"accuracy\")\n",
        "plot_graphs(history, \"loss\")"
      ]
    },
    {
      "cell_type": "code",
      "execution_count": null,
      "metadata": {
        "id": "uh1-qto4wrfh",
        "outputId": "358050d0-d69f-45c7-a159-539f1bc5fee1"
      },
      "outputs": [
        {
          "name": "stdout",
          "output_type": "stream",
          "text": [
            "Weights of embedding layer have shape: (1000, 50)\n"
          ]
        }
      ],
      "source": [
        "reverse_word_index = dict([(value, key) for (key, value) in word_index.items()])\n",
        "e = model.layers[0]\n",
        "\n",
        "\n",
        "weights = e.get_weights()[0]\n",
        "print(f\"Weights of embedding layer have shape: {weights.shape}\")"
      ]
    },
    {
      "cell_type": "markdown",
      "metadata": {
        "id": "IWqv1ZXNwrfi"
      },
      "source": [
        "# Save metadata and vectors"
      ]
    },
    {
      "cell_type": "code",
      "execution_count": null,
      "metadata": {
        "id": "X1AjGjFxwrfi"
      },
      "outputs": [],
      "source": [
        "import csv"
      ]
    },
    {
      "cell_type": "code",
      "execution_count": null,
      "metadata": {
        "id": "zo6v_YJ0wrfj"
      },
      "outputs": [],
      "source": [
        "with open('model/deep_vecs.tsv', 'w', newline='', encoding='utf-8') as out_v, \\\n",
        "     open('model/deep_meta.tsv', 'w', newline='', encoding='utf-8') as out_m:\n",
        "\n",
        "    # Create CSV writers with tab delimiter\n",
        "    vec_writer = csv.writer(out_v, delimiter='\\t')\n",
        "    meta_writer = csv.writer(out_m, delimiter='\\t')\n",
        "\n",
        "    # Iterate over the words and embeddings\n",
        "    for word_num in range(1, num_words):\n",
        "        word = reverse_word_index[word_num]\n",
        "        embeddings = weights[word_num]\n",
        "\n",
        "        # Write the word to the metadata file\n",
        "        meta_writer.writerow([word])\n",
        "\n",
        "        # Write the embedding vector to the vectors file\n",
        "        vec_writer.writerow(embeddings)\n"
      ]
    },
    {
      "cell_type": "markdown",
      "metadata": {
        "id": "8nSxrXYIwrfj"
      },
      "source": [
        "https://projector.tensorflow.org/"
      ]
    },
    {
      "cell_type": "markdown",
      "metadata": {
        "id": "HDYi9b-Dwrfj"
      },
      "source": [
        "# Add the vectors and metadata to a word2vec model"
      ]
    },
    {
      "cell_type": "code",
      "execution_count": null,
      "metadata": {
        "id": "xIiMxYtnwrfj",
        "outputId": "06fe63b5-7169-4011-a301-5c0b0806fdf6"
      },
      "outputs": [
        {
          "name": "stdout",
          "output_type": "stream",
          "text": [
            "Requirement already satisfied: gensim in c:\\users\\ghost\\anaconda3\\envs\\daks\\lib\\site-packages (4.3.3)\n",
            "Requirement already satisfied: numpy<2.0,>=1.18.5 in c:\\users\\ghost\\anaconda3\\envs\\daks\\lib\\site-packages (from gensim) (1.24.3)\n",
            "Requirement already satisfied: scipy<1.14.0,>=1.7.0 in c:\\users\\ghost\\anaconda3\\envs\\daks\\lib\\site-packages (from gensim) (1.10.1)\n",
            "Requirement already satisfied: smart-open>=1.8.1 in c:\\users\\ghost\\anaconda3\\envs\\daks\\lib\\site-packages (from gensim) (7.0.4)\n",
            "Requirement already satisfied: wrapt in c:\\users\\ghost\\anaconda3\\envs\\daks\\lib\\site-packages (from smart-open>=1.8.1->gensim) (1.12.1)\n"
          ]
        }
      ],
      "source": [
        "!pip install gensim"
      ]
    },
    {
      "cell_type": "code",
      "execution_count": null,
      "metadata": {
        "id": "Y9zuW-FRwrfk"
      },
      "outputs": [],
      "source": [
        "import numpy as np\n",
        "import csv\n",
        "from gensim.models import Word2Vec"
      ]
    },
    {
      "cell_type": "code",
      "execution_count": null,
      "metadata": {
        "id": "TW8OB9Xgwrfk"
      },
      "outputs": [],
      "source": [
        "vecs_file_path = 'model/deep_vecs.tsv'\n",
        "meta_file_path = 'model/deep_meta.tsv'"
      ]
    },
    {
      "cell_type": "markdown",
      "metadata": {
        "id": "H1YGzflZwrfk"
      },
      "source": [
        "# Read Word and Vectors"
      ]
    },
    {
      "cell_type": "code",
      "execution_count": null,
      "metadata": {
        "id": "OS_D6k23wrfk"
      },
      "outputs": [],
      "source": [
        "words = []\n",
        "with open(meta_file_path, 'r', encoding='utf-8') as meta_file:\n",
        "    reader = csv.reader(meta_file, delimiter='\\t')\n",
        "    for row in reader:\n",
        "        words.append(row[0])\n",
        "\n",
        "vectors = []\n",
        "with open(vecs_file_path, 'r', encoding='utf-8') as vec_file:\n",
        "    reader = csv.reader(vec_file, delimiter='\\t')\n",
        "    for row in reader:\n",
        "        vectors.append(list(map(float, row)))"
      ]
    },
    {
      "cell_type": "markdown",
      "metadata": {
        "id": "zVdHctxUwrfl"
      },
      "source": [
        "# Instantiate a word2vec model"
      ]
    },
    {
      "cell_type": "code",
      "execution_count": null,
      "metadata": {
        "id": "x5Zc6YQIwrfl"
      },
      "outputs": [],
      "source": [
        "model = Word2Vec(vector_size=embedding_dim, min_count=1)"
      ]
    },
    {
      "cell_type": "code",
      "execution_count": null,
      "metadata": {
        "id": "FwJgLcFkwrfm"
      },
      "outputs": [],
      "source": [
        "model.build_vocab([words])"
      ]
    },
    {
      "cell_type": "code",
      "execution_count": null,
      "metadata": {
        "id": "7zQ9Qjm6wrfm",
        "outputId": "cbf46cf8-350b-4570-fde1-dd9468bde363"
      },
      "outputs": [
        {
          "name": "stderr",
          "output_type": "stream",
          "text": [
            "c:\\Users\\Ghost\\anaconda3\\envs\\daks\\lib\\site-packages\\gensim\\models\\keyedvectors.py:551: UserWarning: Adding single vectors to a KeyedVectors which grows by one each time can be costly. Consider adding in batches or preallocating to the required size.\n",
            "  warnings.warn(\n"
          ]
        },
        {
          "data": {
            "text/plain": [
              "999"
            ]
          },
          "execution_count": 37,
          "metadata": {},
          "output_type": "execute_result"
        }
      ],
      "source": [
        "model.wv.add_vector(words[0], vectors[0])"
      ]
    },
    {
      "cell_type": "code",
      "execution_count": null,
      "metadata": {
        "id": "TYrK1YsZwrfn",
        "outputId": "4cf7d0a5-eec5-4381-b321-323d83d23d93"
      },
      "outputs": [
        {
          "data": {
            "text/plain": [
              "array([-0.00682009,  0.00386903,  0.01564517,  0.00489331,  0.00280117,\n",
              "       -0.00891306,  0.00044728, -0.00083868,  0.01522908, -0.00913632,\n",
              "       -0.00393826, -0.00848204,  0.00721883,  0.00617027,  0.01613773,\n",
              "       -0.01920345, -0.0126947 ,  0.01032761,  0.01909714, -0.0005984 ,\n",
              "        0.00987873, -0.01497396, -0.00407823, -0.00067952,  0.01371823,\n",
              "       -0.00498251, -0.00044379,  0.01495896, -0.0042868 ,  0.00691736,\n",
              "       -0.00050156, -0.01101669,  0.01227784,  0.01662644, -0.01016246,\n",
              "        0.01463105,  0.00273892,  0.00173163, -0.00090001, -0.0169579 ,\n",
              "        0.00584014,  0.00652881, -0.00986801, -0.00307827,  0.01647288,\n",
              "        0.00507916, -0.00894451, -0.01607152,  0.01745474, -0.01540166],\n",
              "      dtype=float32)"
            ]
          },
          "execution_count": 38,
          "metadata": {},
          "output_type": "execute_result"
        }
      ],
      "source": [
        "model.wv['sad']"
      ]
    },
    {
      "cell_type": "markdown",
      "metadata": {
        "id": "Xtq8wjXTwrfn"
      },
      "source": [
        "# Save"
      ]
    },
    {
      "cell_type": "code",
      "execution_count": null,
      "metadata": {
        "id": "oQ_9RI_4wrfo"
      },
      "outputs": [],
      "source": [
        "model.save('model/ann_sentiment.model')"
      ]
    },
    {
      "cell_type": "markdown",
      "metadata": {
        "id": "0y_bsLHAwrfo"
      },
      "source": [
        "# Load"
      ]
    },
    {
      "cell_type": "code",
      "execution_count": null,
      "metadata": {
        "id": "kZyT7Weiwrfo"
      },
      "outputs": [],
      "source": [
        "model = Word2Vec.load(\"model/ann_sentiment.model\")"
      ]
    },
    {
      "cell_type": "markdown",
      "metadata": {
        "id": "3lMK-wWxwrfo"
      },
      "source": [
        "# Predict"
      ]
    },
    {
      "cell_type": "code",
      "execution_count": null,
      "metadata": {
        "id": "32g0UPJjwrfo",
        "outputId": "9d610c64-35ea-454a-c6f5-69ed9608e40f"
      },
      "outputs": [
        {
          "name": "stdout",
          "output_type": "stream",
          "text": [
            "Vector for love:\n",
            "[-0.01564317  0.01894812  0.0165479  -0.01758055  0.01576115 -0.01934321\n",
            "  0.00669707 -0.00678033 -0.01458204  0.00099076  0.0133783  -0.00182499\n",
            "  0.01659051 -0.01964499  0.00377861  0.01743717  0.00374353 -0.01096439\n",
            " -0.00626939 -0.00701821  0.00198358 -0.01484936 -0.00248968 -0.01172973\n",
            " -0.0182034   0.01636755 -0.0103887  -0.01955104 -0.00763056 -0.01451884\n",
            " -0.00915291  0.00294826 -0.01627382  0.01869269  0.0037775   0.00295593\n",
            " -0.01095092 -0.01750136 -0.00939396 -0.0135782  -0.00975702 -0.00991823\n",
            " -0.01672148 -0.01170649  0.00520916 -0.00505193 -0.01460798 -0.01436688\n",
            " -0.0097321   0.01700516]\n",
            "\n"
          ]
        }
      ],
      "source": [
        "# Vector for word love\n",
        "print(\"Vector for love:\")\n",
        "print(model.wv[\"love\"])\n",
        "print()"
      ]
    },
    {
      "cell_type": "markdown",
      "metadata": {
        "id": "MSvoxzMBwrfp"
      },
      "source": [
        "# Similar words"
      ]
    },
    {
      "cell_type": "code",
      "execution_count": null,
      "metadata": {
        "id": "SRJNiJb6wrfp",
        "outputId": "bc1d37be-bb0e-4b22-a42c-dcee71e3250d"
      },
      "outputs": [
        {
          "name": "stdout",
          "output_type": "stream",
          "text": [
            "words similar to happy\n",
            "('et', 0.36687394976615906)\n",
            "('stay', 0.3600258529186249)\n",
            "('abused', 0.34215646982192993)\n",
            "('program', 0.33862239122390747)\n",
            "('grain', 0.3368399739265442)\n",
            "('watch', 0.3261900842189789)\n",
            "('dinner', 0.32329249382019043)\n",
            "('game', 0.320765882730484)\n",
            "\n"
          ]
        }
      ],
      "source": [
        "word = 'happy'\n",
        "print(f\"words similar to {word}\")\n",
        "words = model.wv.most_similar(word, topn=8)\n",
        "for word in words:\n",
        "    print(word)\n",
        "print()\n"
      ]
    },
    {
      "cell_type": "code",
      "execution_count": null,
      "metadata": {
        "id": "_sk4SVEQwrfp",
        "outputId": "441529a8-124e-4c44-8e11-19723c4be9b8"
      },
      "outputs": [
        {
          "data": {
            "text/plain": [
              "[('stay', 0.4724733233451843),\n",
              " ('et', 0.36803683638572693),\n",
              " ('wife', 0.36710578203201294),\n",
              " ('fine', 0.36223721504211426),\n",
              " ('kitchen', 0.35569116473197937),\n",
              " ('side', 0.35249063372612),\n",
              " ('serious', 0.3493953347206116),\n",
              " ('empty', 0.34602099657058716),\n",
              " ('control', 0.3455445170402527),\n",
              " ('year', 0.3360358476638794)]"
            ]
          },
          "execution_count": 44,
          "metadata": {},
          "output_type": "execute_result"
        }
      ],
      "source": [
        "model.wv.most_similar(['sad','happy'])"
      ]
    },
    {
      "cell_type": "code",
      "execution_count": null,
      "metadata": {
        "id": "9Yaimfcnwrfq"
      },
      "outputs": [],
      "source": []
    }
  ],
  "metadata": {
    "kernelspec": {
      "display_name": "Prime",
      "language": "python",
      "name": "python3"
    },
    "language_info": {
      "codemirror_mode": {
        "name": "ipython",
        "version": 3
      },
      "file_extension": ".py",
      "mimetype": "text/x-python",
      "name": "python",
      "nbconvert_exporter": "python",
      "pygments_lexer": "ipython3",
      "version": "3.8.19"
    },
    "colab": {
      "provenance": [],
      "include_colab_link": true
    }
  },
  "nbformat": 4,
  "nbformat_minor": 0
}